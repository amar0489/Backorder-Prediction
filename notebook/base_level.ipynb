{
 "cells": [
  {
   "cell_type": "markdown",
   "metadata": {},
   "source": [
    "##### Importing Necessary Libraries"
   ]
  },
  {
   "cell_type": "code",
   "execution_count": 1,
   "metadata": {},
   "outputs": [],
   "source": [
    "import pandas as pd\n",
    "import numpy as np\n",
    "import matplotlib.pyplot as plt\n",
    "import seaborn as sns\n",
    "from sklearn.metrics import precision_recall_curve, auc, roc_curve\n",
    "from sklearn.model_selection import StratifiedKFold, StratifiedShuffleSplit\n",
    "from  imblearn.over_sampling import SMOTE \n",
    "from imblearn.over_sampling import RandomOverSampler\n",
    "from imblearn.under_sampling import RandomUnderSampler\n",
    "from sklearn.preprocessing import StandardScaler\n",
    "import warnings\n",
    "warnings.filterwarnings('ignore')"
   ]
  },
  {
   "cell_type": "markdown",
   "metadata": {},
   "source": [
    "##### The dataset"
   ]
  },
  {
   "cell_type": "code",
   "execution_count": 2,
   "metadata": {},
   "outputs": [
    {
     "data": {
      "text/html": [
       "<div>\n",
       "<style scoped>\n",
       "    .dataframe tbody tr th:only-of-type {\n",
       "        vertical-align: middle;\n",
       "    }\n",
       "\n",
       "    .dataframe tbody tr th {\n",
       "        vertical-align: top;\n",
       "    }\n",
       "\n",
       "    .dataframe thead th {\n",
       "        text-align: right;\n",
       "    }\n",
       "</style>\n",
       "<table border=\"1\" class=\"dataframe\">\n",
       "  <thead>\n",
       "    <tr style=\"text-align: right;\">\n",
       "      <th></th>\n",
       "      <th>Unnamed: 0</th>\n",
       "      <th>sku</th>\n",
       "      <th>national_inv</th>\n",
       "      <th>lead_time</th>\n",
       "      <th>in_transit_qty</th>\n",
       "      <th>forecast_3_month</th>\n",
       "      <th>forecast_6_month</th>\n",
       "      <th>forecast_9_month</th>\n",
       "      <th>sales_1_month</th>\n",
       "      <th>sales_3_month</th>\n",
       "      <th>...</th>\n",
       "      <th>pieces_past_due</th>\n",
       "      <th>perf_6_month_avg</th>\n",
       "      <th>perf_12_month_avg</th>\n",
       "      <th>local_bo_qty</th>\n",
       "      <th>deck_risk</th>\n",
       "      <th>oe_constraint</th>\n",
       "      <th>ppap_risk</th>\n",
       "      <th>stop_auto_buy</th>\n",
       "      <th>rev_stop</th>\n",
       "      <th>went_on_backorder</th>\n",
       "    </tr>\n",
       "  </thead>\n",
       "  <tbody>\n",
       "    <tr>\n",
       "      <th>0</th>\n",
       "      <td>0</td>\n",
       "      <td>1026827</td>\n",
       "      <td>0.0</td>\n",
       "      <td>NaN</td>\n",
       "      <td>0.0</td>\n",
       "      <td>0.0</td>\n",
       "      <td>0.0</td>\n",
       "      <td>0.0</td>\n",
       "      <td>0.0</td>\n",
       "      <td>0.0</td>\n",
       "      <td>...</td>\n",
       "      <td>0.0</td>\n",
       "      <td>-99.00</td>\n",
       "      <td>-99.00</td>\n",
       "      <td>0.0</td>\n",
       "      <td>No</td>\n",
       "      <td>No</td>\n",
       "      <td>No</td>\n",
       "      <td>Yes</td>\n",
       "      <td>No</td>\n",
       "      <td>No</td>\n",
       "    </tr>\n",
       "    <tr>\n",
       "      <th>1</th>\n",
       "      <td>1</td>\n",
       "      <td>1043384</td>\n",
       "      <td>2.0</td>\n",
       "      <td>9.0</td>\n",
       "      <td>0.0</td>\n",
       "      <td>0.0</td>\n",
       "      <td>0.0</td>\n",
       "      <td>0.0</td>\n",
       "      <td>0.0</td>\n",
       "      <td>0.0</td>\n",
       "      <td>...</td>\n",
       "      <td>0.0</td>\n",
       "      <td>0.99</td>\n",
       "      <td>0.99</td>\n",
       "      <td>0.0</td>\n",
       "      <td>No</td>\n",
       "      <td>No</td>\n",
       "      <td>No</td>\n",
       "      <td>Yes</td>\n",
       "      <td>No</td>\n",
       "      <td>No</td>\n",
       "    </tr>\n",
       "    <tr>\n",
       "      <th>2</th>\n",
       "      <td>2</td>\n",
       "      <td>1043696</td>\n",
       "      <td>2.0</td>\n",
       "      <td>NaN</td>\n",
       "      <td>0.0</td>\n",
       "      <td>0.0</td>\n",
       "      <td>0.0</td>\n",
       "      <td>0.0</td>\n",
       "      <td>0.0</td>\n",
       "      <td>0.0</td>\n",
       "      <td>...</td>\n",
       "      <td>0.0</td>\n",
       "      <td>-99.00</td>\n",
       "      <td>-99.00</td>\n",
       "      <td>0.0</td>\n",
       "      <td>Yes</td>\n",
       "      <td>No</td>\n",
       "      <td>No</td>\n",
       "      <td>Yes</td>\n",
       "      <td>No</td>\n",
       "      <td>No</td>\n",
       "    </tr>\n",
       "    <tr>\n",
       "      <th>3</th>\n",
       "      <td>3</td>\n",
       "      <td>1043852</td>\n",
       "      <td>7.0</td>\n",
       "      <td>8.0</td>\n",
       "      <td>0.0</td>\n",
       "      <td>0.0</td>\n",
       "      <td>0.0</td>\n",
       "      <td>0.0</td>\n",
       "      <td>0.0</td>\n",
       "      <td>0.0</td>\n",
       "      <td>...</td>\n",
       "      <td>0.0</td>\n",
       "      <td>0.10</td>\n",
       "      <td>0.13</td>\n",
       "      <td>0.0</td>\n",
       "      <td>No</td>\n",
       "      <td>No</td>\n",
       "      <td>No</td>\n",
       "      <td>Yes</td>\n",
       "      <td>No</td>\n",
       "      <td>No</td>\n",
       "    </tr>\n",
       "    <tr>\n",
       "      <th>4</th>\n",
       "      <td>4</td>\n",
       "      <td>1044048</td>\n",
       "      <td>8.0</td>\n",
       "      <td>NaN</td>\n",
       "      <td>0.0</td>\n",
       "      <td>0.0</td>\n",
       "      <td>0.0</td>\n",
       "      <td>0.0</td>\n",
       "      <td>0.0</td>\n",
       "      <td>0.0</td>\n",
       "      <td>...</td>\n",
       "      <td>0.0</td>\n",
       "      <td>-99.00</td>\n",
       "      <td>-99.00</td>\n",
       "      <td>0.0</td>\n",
       "      <td>Yes</td>\n",
       "      <td>No</td>\n",
       "      <td>No</td>\n",
       "      <td>Yes</td>\n",
       "      <td>No</td>\n",
       "      <td>No</td>\n",
       "    </tr>\n",
       "  </tbody>\n",
       "</table>\n",
       "<p>5 rows × 24 columns</p>\n",
       "</div>"
      ],
      "text/plain": [
       "   Unnamed: 0      sku  national_inv  lead_time  in_transit_qty  \\\n",
       "0           0  1026827           0.0        NaN             0.0   \n",
       "1           1  1043384           2.0        9.0             0.0   \n",
       "2           2  1043696           2.0        NaN             0.0   \n",
       "3           3  1043852           7.0        8.0             0.0   \n",
       "4           4  1044048           8.0        NaN             0.0   \n",
       "\n",
       "   forecast_3_month  forecast_6_month  forecast_9_month  sales_1_month  \\\n",
       "0               0.0               0.0               0.0            0.0   \n",
       "1               0.0               0.0               0.0            0.0   \n",
       "2               0.0               0.0               0.0            0.0   \n",
       "3               0.0               0.0               0.0            0.0   \n",
       "4               0.0               0.0               0.0            0.0   \n",
       "\n",
       "   sales_3_month  ...  pieces_past_due  perf_6_month_avg  perf_12_month_avg  \\\n",
       "0            0.0  ...              0.0            -99.00             -99.00   \n",
       "1            0.0  ...              0.0              0.99               0.99   \n",
       "2            0.0  ...              0.0            -99.00             -99.00   \n",
       "3            0.0  ...              0.0              0.10               0.13   \n",
       "4            0.0  ...              0.0            -99.00             -99.00   \n",
       "\n",
       "  local_bo_qty  deck_risk  oe_constraint  ppap_risk  stop_auto_buy rev_stop  \\\n",
       "0          0.0         No             No         No            Yes       No   \n",
       "1          0.0         No             No         No            Yes       No   \n",
       "2          0.0        Yes             No         No            Yes       No   \n",
       "3          0.0         No             No         No            Yes       No   \n",
       "4          0.0        Yes             No         No            Yes       No   \n",
       "\n",
       "  went_on_backorder  \n",
       "0                No  \n",
       "1                No  \n",
       "2                No  \n",
       "3                No  \n",
       "4                No  \n",
       "\n",
       "[5 rows x 24 columns]"
      ]
     },
     "execution_count": 2,
     "metadata": {},
     "output_type": "execute_result"
    }
   ],
   "source": [
    "path= r'C:\\Users\\HP\\Desktop\\backorder project\\notebook\\data\\backorder_data.csv'  # Use the path of your downloaded dataset for avoiding errors\n",
    "data= pd.read_csv(path)\n",
    "data.head()"
   ]
  },
  {
   "cell_type": "code",
   "execution_count": 3,
   "metadata": {},
   "outputs": [],
   "source": [
    "train_data = None\n",
    "test_data = None\n",
    "          \n",
    "stratified_shuffle_split = StratifiedShuffleSplit(n_splits=1, test_size=0.2, random_state=42)\n",
    "for train_index, test_index in stratified_shuffle_split.split(data, data['went_on_backorder'].fillna(data['went_on_backorder'].mode()[0])):\n",
    "    train_data = data.loc[train_index].drop(columns=['Unnamed: 0'])\n",
    "    test_data = data.loc[test_index].drop(columns=['Unnamed: 0'])"
   ]
  },
  {
   "cell_type": "markdown",
   "metadata": {},
   "source": [
    "##### Data Preprocessing"
   ]
  },
  {
   "cell_type": "code",
   "execution_count": 4,
   "metadata": {},
   "outputs": [],
   "source": [
    "train_data= train_data.dropna()\n",
    "train_data= train_data.drop(columns=['sku'])\n",
    "\n",
    "cat_features = train_data.select_dtypes(include=['object'])\n",
    "num_features = train_data.select_dtypes(include=np.number)\n",
    "\n",
    "for col in cat_features:\n",
    "    cat_features[col].replace('No',0,inplace=True)\n",
    "    cat_features[col].replace('Yes',1,inplace=True)\n",
    "\n",
    "train_data= pd.concat([num_features,cat_features],axis=1)"
   ]
  },
  {
   "cell_type": "code",
   "execution_count": 5,
   "metadata": {},
   "outputs": [],
   "source": [
    "X= train_data.drop(['went_on_backorder','forecast_6_month', 'forecast_9_month','sales_3_month', 'sales_6_month', 'sales_9_month','perf_12_month_avg'],axis=1)\n",
    "y= train_data['went_on_backorder']\n",
    "\n",
    "scaler= StandardScaler()\n",
    "\n",
    "skf= StratifiedKFold(random_state=42,shuffle=True)"
   ]
  },
  {
   "cell_type": "markdown",
   "metadata": {},
   "source": [
    "##### Model Training"
   ]
  },
  {
   "cell_type": "code",
   "execution_count": 6,
   "metadata": {},
   "outputs": [],
   "source": [
    "model_performance= pd.DataFrame(columns=['Model Name','AUC_ROC_Score','AUC_PR_Score'])"
   ]
  },
  {
   "cell_type": "markdown",
   "metadata": {},
   "source": [
    "##### Logistic Regression"
   ]
  },
  {
   "cell_type": "code",
   "execution_count": 7,
   "metadata": {},
   "outputs": [
    {
     "name": "stdout",
     "output_type": "stream",
     "text": [
      "Roc_score: 0.62931485845858\n",
      "PR_score: 0.012855811894019614\n"
     ]
    }
   ],
   "source": [
    "from sklearn.linear_model import LogisticRegression\n",
    "log_model= LogisticRegression(random_state=42)\n",
    "\n",
    "roc_score= []\n",
    "pr_score= []\n",
    "\n",
    "for train_index, val_index in skf.split(X,y):\n",
    "    X_train = X.iloc[train_index]\n",
    "    X_val = X.iloc[val_index]\n",
    "    y_train = y.iloc[train_index]\n",
    "    y_val = y.iloc[val_index]\n",
    "\n",
    "    X_train_scaled = scaler.fit_transform(X_train)\n",
    "    X_val_scaled = scaler.transform(X_val)\n",
    "\n",
    "    log_model.fit(X_train_scaled,y_train)\n",
    "    y_pred= log_model.predict_proba(X_val_scaled)[:, 1]  \n",
    "    \n",
    "    precision, recall, thresholds = precision_recall_curve(y_val, y_pred)\n",
    "    auc_score = auc(recall, precision)\n",
    "    pr_score.append(auc_score)\n",
    "    fpr, tpr, _ = roc_curve(y_val, y_pred)\n",
    "    roc_auc = auc(fpr, tpr)\n",
    "    roc_score.append(roc_auc)\n",
    "\n",
    "new_row= {'Model Name': 'Logistic','AUC_ROC_Score': sum(roc_score)/len(roc_score),'AUC_PR_Score':sum(pr_score)/len(pr_score) }\n",
    "model_performance.loc[0]= new_row\n",
    "print(f'Roc_score: {sum(roc_score)/len(roc_score)}')\n",
    "print(f'PR_score: {sum(pr_score)/len(pr_score)}')\n"
   ]
  },
  {
   "cell_type": "markdown",
   "metadata": {},
   "source": [
    "##### Logistic Regression with Smote"
   ]
  },
  {
   "cell_type": "code",
   "execution_count": 8,
   "metadata": {},
   "outputs": [
    {
     "name": "stdout",
     "output_type": "stream",
     "text": [
      "Roc_score: 0.729026901429587\n",
      "PR_score: 0.02683736257119615\n"
     ]
    }
   ],
   "source": [
    "log_model_sm= LogisticRegression(random_state=42)\n",
    "roc_score= []\n",
    "pr_score= []\n",
    "\n",
    "for train_index, val_index in skf.split(X,y):\n",
    "    X_train = X.iloc[train_index]\n",
    "    X_val = X.iloc[val_index]\n",
    "    y_train = y.iloc[train_index]\n",
    "    y_val = y.iloc[val_index]\n",
    "\n",
    "    smote = SMOTE(random_state=42)\n",
    "    X_train_sm, y_train_sm = smote.fit_resample(X_train, y_train)\n",
    "\n",
    "    X_train_scaled = scaler.fit_transform(X_train_sm)\n",
    "    X_val_scaled = scaler.transform(X_val)\n",
    "\n",
    "    log_model_sm.fit(X_train_scaled,y_train_sm)\n",
    "    y_pred= log_model_sm.predict_proba(X_val_scaled)[:, 1]  \n",
    "    \n",
    "    precision, recall, thresholds = precision_recall_curve(y_val, y_pred)\n",
    "    auc_score = auc(recall, precision)\n",
    "    pr_score.append(auc_score)\n",
    "    fpr, tpr, _ = roc_curve(y_val, y_pred)\n",
    "    roc_auc = auc(fpr, tpr)\n",
    "    roc_score.append(roc_auc)\n",
    "\n",
    "new_row= {'Model Name': 'Logistic with Smote','AUC_ROC_Score': sum(roc_score)/len(roc_score),'AUC_PR_Score':sum(pr_score)/len(pr_score) }\n",
    "model_performance.loc[1]= new_row\n",
    "print(f'Roc_score: {sum(roc_score)/len(roc_score)}')\n",
    "print(f'PR_score: {sum(pr_score)/len(pr_score)}')"
   ]
  },
  {
   "cell_type": "markdown",
   "metadata": {},
   "source": [
    "##### Logistic Regression with RandomOverSampling"
   ]
  },
  {
   "cell_type": "code",
   "execution_count": 9,
   "metadata": {},
   "outputs": [
    {
     "name": "stdout",
     "output_type": "stream",
     "text": [
      "Roc_score: 0.76431945826052\n",
      "PR_score: 0.02843452135309098\n"
     ]
    }
   ],
   "source": [
    "log_model_ovr= LogisticRegression(random_state=42)\n",
    "roc_score= []\n",
    "pr_score= []\n",
    "\n",
    "for train_index, val_index in skf.split(X,y):\n",
    "    X_train = X.iloc[train_index]\n",
    "    X_val = X.iloc[val_index]\n",
    "    y_train = y.iloc[train_index]\n",
    "    y_val = y.iloc[val_index]\n",
    "\n",
    "    ran_over = RandomOverSampler(random_state=42)\n",
    "    X_train_ovr, y_train_ovr = ran_over.fit_resample(X_train, y_train)\n",
    "\n",
    "    X_train_scaled = scaler.fit_transform(X_train_ovr)\n",
    "    X_val_scaled = scaler.transform(X_val)\n",
    "\n",
    "    log_model_ovr.fit(X_train_scaled,y_train_ovr)\n",
    "    y_pred= log_model_ovr.predict_proba(X_val_scaled)[:, 1]  \n",
    "    \n",
    "    precision, recall, thresholds = precision_recall_curve(y_val, y_pred)\n",
    "    auc_score = auc(recall, precision)\n",
    "    pr_score.append(auc_score)\n",
    "    fpr, tpr, _ = roc_curve(y_val, y_pred)\n",
    "    roc_auc = auc(fpr, tpr)\n",
    "    roc_score.append(roc_auc)\n",
    "\n",
    "new_row= {'Model Name': 'Logistic with RandomOverSampling','AUC_ROC_Score': sum(roc_score)/len(roc_score),'AUC_PR_Score':sum(pr_score)/len(pr_score) }\n",
    "model_performance.loc[2]= new_row\n",
    "print(f'Roc_score: {sum(roc_score)/len(roc_score)}')\n",
    "print(f'PR_score: {sum(pr_score)/len(pr_score)}')"
   ]
  },
  {
   "cell_type": "markdown",
   "metadata": {},
   "source": [
    "##### Logistic Regression with RandomUnderSampling"
   ]
  },
  {
   "cell_type": "code",
   "execution_count": 10,
   "metadata": {},
   "outputs": [
    {
     "name": "stdout",
     "output_type": "stream",
     "text": [
      "Roc_score: 0.759907501742001\n",
      "PR_score: 0.02717700832874385\n"
     ]
    }
   ],
   "source": [
    "log_model_und= LogisticRegression(random_state=42)\n",
    "roc_score= []\n",
    "pr_score= []\n",
    "\n",
    "for train_index, val_index in skf.split(X,y):\n",
    "    X_train = X.iloc[train_index]\n",
    "    X_val = X.iloc[val_index]\n",
    "    y_train = y.iloc[train_index]\n",
    "    y_val = y.iloc[val_index]\n",
    "\n",
    "    ran_under = RandomUnderSampler(random_state=42)\n",
    "    X_train_und, y_train_und = ran_under.fit_resample(X_train, y_train)\n",
    "\n",
    "    scaler = StandardScaler()\n",
    "    X_train_scaled = scaler.fit_transform(X_train_und)\n",
    "    X_val_scaled = scaler.transform(X_val)\n",
    "\n",
    "    log_model_und.fit(X_train_scaled,y_train_und)\n",
    "    y_pred= log_model_und.predict_proba(X_val_scaled)[:, 1]  \n",
    "    \n",
    "    precision, recall, thresholds = precision_recall_curve(y_val, y_pred)\n",
    "    auc_score = auc(recall, precision)\n",
    "    pr_score.append(auc_score)\n",
    "    fpr, tpr, _ = roc_curve(y_val, y_pred)\n",
    "    roc_auc = auc(fpr, tpr)\n",
    "    roc_score.append(roc_auc)\n",
    "\n",
    "new_row= {'Model Name': 'Logistic with RandomUnderSampling','AUC_ROC_Score': sum(roc_score)/len(roc_score),'AUC_PR_Score':sum(pr_score)/len(pr_score) }\n",
    "model_performance.loc[3]= new_row\n",
    "print(f'Roc_score: {sum(roc_score)/len(roc_score)}')\n",
    "print(f'PR_score: {sum(pr_score)/len(pr_score)}')"
   ]
  },
  {
   "cell_type": "markdown",
   "metadata": {},
   "source": [
    "##### Decision Tree"
   ]
  },
  {
   "cell_type": "code",
   "execution_count": 11,
   "metadata": {},
   "outputs": [
    {
     "name": "stdout",
     "output_type": "stream",
     "text": [
      "Roc_score: 0.6671877491955648\n",
      "PR_score: 0.2128192895061424\n"
     ]
    }
   ],
   "source": [
    "from sklearn.tree import DecisionTreeClassifier\n",
    "\n",
    "dt_model= DecisionTreeClassifier(random_state=42)\n",
    "roc_score= []\n",
    "pr_score= []\n",
    "\n",
    "for train_index, val_index in skf.split(X,y):\n",
    "    X_train = X.iloc[train_index]\n",
    "    X_val = X.iloc[val_index]\n",
    "    y_train = y.iloc[train_index]\n",
    "    y_val = y.iloc[val_index]\n",
    "\n",
    "    dt_model.fit(X_train,y_train)\n",
    "    y_pred= dt_model.predict_proba(X_val)[:, 1]  \n",
    "    \n",
    "    precision, recall, thresholds = precision_recall_curve(y_val, y_pred)\n",
    "    auc_score = auc(recall, precision)\n",
    "    pr_score.append(auc_score)\n",
    "    fpr, tpr, _ = roc_curve(y_val, y_pred)\n",
    "    roc_auc = auc(fpr, tpr)\n",
    "    roc_score.append(roc_auc)\n",
    "\n",
    "new_row= {'Model Name': 'CART','AUC_ROC_Score': sum(roc_score)/len(roc_score),'AUC_PR_Score':sum(pr_score)/len(pr_score) }\n",
    "model_performance.loc[4]= new_row\n",
    "print(f'Roc_score: {sum(roc_score)/len(roc_score)}')\n",
    "print(f'PR_score: {sum(pr_score)/len(pr_score)}')"
   ]
  },
  {
   "cell_type": "markdown",
   "metadata": {},
   "source": [
    "##### Decision Tree with Smote"
   ]
  },
  {
   "cell_type": "code",
   "execution_count": 12,
   "metadata": {},
   "outputs": [
    {
     "name": "stdout",
     "output_type": "stream",
     "text": [
      "Roc_score: 0.6857619095444052\n",
      "PR_score: 0.22212577965063157\n"
     ]
    }
   ],
   "source": [
    "dt_model_sm= DecisionTreeClassifier(random_state=42)\n",
    "roc_score= []\n",
    "pr_score= []\n",
    "\n",
    "for train_index, val_index in skf.split(X,y):\n",
    "    X_train = X.iloc[train_index]\n",
    "    X_val = X.iloc[val_index]\n",
    "    y_train = y.iloc[train_index]\n",
    "    y_val = y.iloc[val_index]\n",
    "\n",
    "    smote = SMOTE(random_state=42)\n",
    "    X_train_sm, y_train_sm = smote.fit_resample(X_train, y_train)\n",
    "\n",
    "    dt_model_sm.fit(X_train_sm,y_train_sm)\n",
    "    y_pred= dt_model_sm.predict_proba(X_val)[:, 1]  \n",
    "    \n",
    "    precision, recall, thresholds = precision_recall_curve(y_val, y_pred)\n",
    "    auc_score = auc(recall, precision)\n",
    "    pr_score.append(auc_score)\n",
    "    fpr, tpr, _ = roc_curve(y_val, y_pred)\n",
    "    roc_auc = auc(fpr, tpr)\n",
    "    roc_score.append(roc_auc)\n",
    "\n",
    "new_row= {'Model Name': 'CART with Smote','AUC_ROC_Score': sum(roc_score)/len(roc_score),'AUC_PR_Score':sum(pr_score)/len(pr_score) }\n",
    "model_performance.loc[5]= new_row\n",
    "print(f'Roc_score: {sum(roc_score)/len(roc_score)}')\n",
    "print(f'PR_score: {sum(pr_score)/len(pr_score)}')"
   ]
  },
  {
   "cell_type": "markdown",
   "metadata": {},
   "source": [
    "##### Decision Tree with RandomOverSampling"
   ]
  },
  {
   "cell_type": "code",
   "execution_count": 13,
   "metadata": {},
   "outputs": [
    {
     "name": "stdout",
     "output_type": "stream",
     "text": [
      "Roc_score: 0.6507116701807879\n",
      "PR_score: 0.1977804196745693\n"
     ]
    }
   ],
   "source": [
    "dt_model_ovr= DecisionTreeClassifier(random_state=42)\n",
    "roc_score= []\n",
    "pr_score= []\n",
    "\n",
    "for train_index, val_index in skf.split(X,y):\n",
    "    X_train = X.iloc[train_index]\n",
    "    X_val = X.iloc[val_index]\n",
    "    y_train = y.iloc[train_index]\n",
    "    y_val = y.iloc[val_index]\n",
    "\n",
    "    ran_over = RandomOverSampler(random_state=42)\n",
    "    X_train_ovr, y_train_ovr = ran_over.fit_resample(X_train, y_train)\n",
    "\n",
    "    dt_model_ovr.fit(X_train_ovr,y_train_ovr)\n",
    "    y_pred= dt_model_ovr.predict_proba(X_val)[:, 1]  \n",
    "    \n",
    "    precision, recall, thresholds = precision_recall_curve(y_val, y_pred)\n",
    "    auc_score = auc(recall, precision)\n",
    "    pr_score.append(auc_score)\n",
    "    fpr, tpr, _ = roc_curve(y_val, y_pred)\n",
    "    roc_auc = auc(fpr, tpr)\n",
    "    roc_score.append(roc_auc)\n",
    "\n",
    "new_row= {'Model Name': 'CART with RandomOverSampling','AUC_ROC_Score': sum(roc_score)/len(roc_score),'AUC_PR_Score':sum(pr_score)/len(pr_score) }\n",
    "model_performance.loc[6]= new_row\n",
    "print(f'Roc_score: {sum(roc_score)/len(roc_score)}')\n",
    "print(f'PR_score: {sum(pr_score)/len(pr_score)}')"
   ]
  },
  {
   "cell_type": "markdown",
   "metadata": {},
   "source": [
    "##### Decision Tree with RandomUnderSampling"
   ]
  },
  {
   "cell_type": "code",
   "execution_count": 14,
   "metadata": {},
   "outputs": [
    {
     "name": "stdout",
     "output_type": "stream",
     "text": [
      "Roc_score: 0.8449659126200666\n",
      "PR_score: 0.4364699065530765\n"
     ]
    }
   ],
   "source": [
    "dt_model_und= DecisionTreeClassifier(random_state=42)\n",
    "roc_score= []\n",
    "pr_score= []\n",
    "\n",
    "for train_index, val_index in skf.split(X,y):\n",
    "    X_train = X.iloc[train_index]\n",
    "    X_val = X.iloc[val_index]\n",
    "    y_train = y.iloc[train_index]\n",
    "    y_val = y.iloc[val_index]\n",
    "\n",
    "    ran_under = RandomUnderSampler(random_state=42)\n",
    "    X_train_und, y_train_und = ran_under.fit_resample(X_train, y_train)\n",
    "\n",
    "    dt_model_und.fit(X_train_und,y_train_und)\n",
    "    y_pred= dt_model_und.predict_proba(X_val)[:, 1]  \n",
    "    \n",
    "    precision, recall, thresholds = precision_recall_curve(y_val, y_pred)\n",
    "    auc_score = auc(recall, precision)\n",
    "    pr_score.append(auc_score)\n",
    "    fpr, tpr, _ = roc_curve(y_val, y_pred)\n",
    "    roc_auc = auc(fpr, tpr)\n",
    "    roc_score.append(roc_auc)\n",
    "\n",
    "new_row= {'Model Name': 'CART with RandomUnderSampling','AUC_ROC_Score': sum(roc_score)/len(roc_score),'AUC_PR_Score':sum(pr_score)/len(pr_score) }\n",
    "model_performance.loc[7]= new_row\n",
    "print(f'Roc_score: {sum(roc_score)/len(roc_score)}')\n",
    "print(f'PR_score: {sum(pr_score)/len(pr_score)}')"
   ]
  },
  {
   "cell_type": "markdown",
   "metadata": {},
   "source": [
    "##### Random Forest"
   ]
  },
  {
   "cell_type": "code",
   "execution_count": 15,
   "metadata": {},
   "outputs": [
    {
     "name": "stdout",
     "output_type": "stream",
     "text": [
      "Roc_score: 0.8979474672873037\n",
      "PR_score: 0.31941310640186876\n"
     ]
    }
   ],
   "source": [
    "from sklearn.ensemble import RandomForestClassifier\n",
    "\n",
    "rf_model = RandomForestClassifier(random_state=42)\n",
    "roc_score= []\n",
    "pr_score= []\n",
    "\n",
    "for train_index, val_index in skf.split(X,y):\n",
    "    X_train = X.iloc[train_index]\n",
    "    X_val = X.iloc[val_index]\n",
    "    y_train = y.iloc[train_index]\n",
    "    y_val = y.iloc[val_index]\n",
    "\n",
    "    rf_model.fit(X_train,y_train)\n",
    "    y_pred= rf_model.predict_proba(X_val)[:, 1]  \n",
    "    \n",
    "    precision, recall, thresholds = precision_recall_curve(y_val, y_pred)\n",
    "    auc_score = auc(recall, precision)\n",
    "    pr_score.append(auc_score)\n",
    "    fpr, tpr, _ = roc_curve(y_val, y_pred)\n",
    "    roc_auc = auc(fpr, tpr)\n",
    "    roc_score.append(roc_auc)\n",
    "\n",
    "new_row= {'Model Name': 'RF','AUC_ROC_Score': sum(roc_score)/len(roc_score),'AUC_PR_Score':sum(pr_score)/len(pr_score) }\n",
    "model_performance.loc[8]= new_row\n",
    "print(f'Roc_score: {sum(roc_score)/len(roc_score)}')\n",
    "print(f'PR_score: {sum(pr_score)/len(pr_score)}')"
   ]
  },
  {
   "cell_type": "markdown",
   "metadata": {},
   "source": [
    "##### Random Forest with Smote"
   ]
  },
  {
   "cell_type": "code",
   "execution_count": 16,
   "metadata": {},
   "outputs": [
    {
     "name": "stdout",
     "output_type": "stream",
     "text": [
      "Roc_score: 0.9087326801025629\n",
      "PR_score: 0.18646140247906381\n"
     ]
    }
   ],
   "source": [
    "rf_model_sm = RandomForestClassifier(random_state=42)\n",
    "roc_score= []\n",
    "pr_score= []\n",
    "\n",
    "for train_index, val_index in skf.split(X,y):\n",
    "    X_train = X.iloc[train_index]\n",
    "    X_val = X.iloc[val_index]\n",
    "    y_train = y.iloc[train_index]\n",
    "    y_val = y.iloc[val_index]\n",
    "\n",
    "    smote = SMOTE(random_state=42)\n",
    "    X_train_sm, y_train_sm = smote.fit_resample(X_train, y_train)\n",
    "\n",
    "    rf_model_sm.fit(X_train_sm,y_train_sm)\n",
    "    y_pred= rf_model_sm.predict_proba(X_val)[:, 1]  \n",
    "    \n",
    "    precision, recall, thresholds = precision_recall_curve(y_val, y_pred)\n",
    "    auc_score = auc(recall, precision)\n",
    "    pr_score.append(auc_score)\n",
    "    fpr, tpr, _ = roc_curve(y_val, y_pred)\n",
    "    roc_auc = auc(fpr, tpr)\n",
    "    roc_score.append(roc_auc)\n",
    "\n",
    "new_row= {'Model Name': 'RF with Smote','AUC_ROC_Score': sum(roc_score)/len(roc_score),'AUC_PR_Score':sum(pr_score)/len(pr_score) }\n",
    "model_performance.loc[9]= new_row\n",
    "print(f'Roc_score: {sum(roc_score)/len(roc_score)}')\n",
    "print(f'PR_score: {sum(pr_score)/len(pr_score)}')"
   ]
  },
  {
   "cell_type": "markdown",
   "metadata": {},
   "source": [
    "##### Random Forest with RandomOverSampling"
   ]
  },
  {
   "cell_type": "code",
   "execution_count": 17,
   "metadata": {},
   "outputs": [
    {
     "name": "stdout",
     "output_type": "stream",
     "text": [
      "Roc_score: 0.8896403019685094\n",
      "PR_score: 0.16197897426603144\n"
     ]
    }
   ],
   "source": [
    "rf_model_ovr = RandomForestClassifier(random_state=42)\n",
    "roc_score= []\n",
    "pr_score= []\n",
    "\n",
    "for train_index, val_index in skf.split(X,y):\n",
    "    X_train = X.iloc[train_index]\n",
    "    X_val = X.iloc[val_index]\n",
    "    y_train = y.iloc[train_index]\n",
    "    y_val = y.iloc[val_index]\n",
    "\n",
    "    ran_over = RandomOverSampler(random_state=42)\n",
    "    X_train_ovr, y_train_ovr = ran_over.fit_resample(X_train, y_train)\n",
    "\n",
    "    rf_model_ovr.fit(X_train_ovr,y_train_ovr)\n",
    "    y_pred= rf_model_ovr.predict_proba(X_val)[:, 1]  \n",
    "    \n",
    "    precision, recall, thresholds = precision_recall_curve(y_val, y_pred)\n",
    "    auc_score = auc(recall, precision)\n",
    "    pr_score.append(auc_score)\n",
    "    fpr, tpr, _ = roc_curve(y_val, y_pred)\n",
    "    roc_auc = auc(fpr, tpr)\n",
    "    roc_score.append(roc_auc)\n",
    "\n",
    "new_row= {'Model Name': 'RF with RandomOverSampling','AUC_ROC_Score': sum(roc_score)/len(roc_score),'AUC_PR_Score':sum(pr_score)/len(pr_score) }\n",
    "model_performance.loc[10]= new_row\n",
    "print(f'Roc_score: {sum(roc_score)/len(roc_score)}')\n",
    "print(f'PR_score: {sum(pr_score)/len(pr_score)}')"
   ]
  },
  {
   "cell_type": "markdown",
   "metadata": {},
   "source": [
    "##### Random Forest with RandomUnderSampling"
   ]
  },
  {
   "cell_type": "code",
   "execution_count": 18,
   "metadata": {},
   "outputs": [
    {
     "name": "stdout",
     "output_type": "stream",
     "text": [
      "Roc_score: 0.9440252124856825\n",
      "PR_score: 0.1797965086332574\n"
     ]
    }
   ],
   "source": [
    "rf_model_und = RandomForestClassifier(random_state=42)\n",
    "roc_score= []\n",
    "pr_score= []\n",
    "\n",
    "for train_index, val_index in skf.split(X,y):\n",
    "    X_train = X.iloc[train_index]\n",
    "    X_val = X.iloc[val_index]\n",
    "    y_train = y.iloc[train_index]\n",
    "    y_val = y.iloc[val_index]\n",
    "\n",
    "    ran_under = RandomUnderSampler(random_state=42)\n",
    "    X_train_und, y_train_und = ran_under.fit_resample(X_train, y_train)\n",
    "\n",
    "    rf_model_und.fit(X_train_und,y_train_und)\n",
    "    y_pred= rf_model_und.predict_proba(X_val)[:, 1]  \n",
    "    \n",
    "    precision, recall, thresholds = precision_recall_curve(y_val, y_pred)\n",
    "    auc_score = auc(recall, precision)\n",
    "    pr_score.append(auc_score)\n",
    "    fpr, tpr, _ = roc_curve(y_val, y_pred)\n",
    "    roc_auc = auc(fpr, tpr)\n",
    "    roc_score.append(roc_auc)\n",
    "\n",
    "new_row= {'Model Name': 'RF with RandomUnderSampling','AUC_ROC_Score': sum(roc_score)/len(roc_score),'AUC_PR_Score':sum(pr_score)/len(pr_score) }\n",
    "model_performance.loc[11]= new_row\n",
    "print(f'Roc_score: {sum(roc_score)/len(roc_score)}')\n",
    "print(f'PR_score: {sum(pr_score)/len(pr_score)}')"
   ]
  },
  {
   "cell_type": "markdown",
   "metadata": {},
   "source": [
    "##### Gradient Boosting"
   ]
  },
  {
   "cell_type": "code",
   "execution_count": 19,
   "metadata": {},
   "outputs": [
    {
     "name": "stdout",
     "output_type": "stream",
     "text": [
      "Roc_score: 0.9266079926292787\n",
      "PR_score: 0.1819623839037415\n"
     ]
    }
   ],
   "source": [
    "from sklearn.ensemble import GradientBoostingClassifier\n",
    "\n",
    "gb_model = GradientBoostingClassifier(random_state=42)\n",
    "roc_score= []\n",
    "pr_score= []\n",
    "\n",
    "for train_index, val_index in skf.split(X,y):\n",
    "    X_train = X.iloc[train_index]\n",
    "    X_val = X.iloc[val_index]\n",
    "    y_train = y.iloc[train_index]\n",
    "    y_val = y.iloc[val_index]\n",
    "\n",
    "    gb_model.fit(X_train,y_train)\n",
    "    y_pred= gb_model.predict_proba(X_val)[:, 1]  \n",
    "    \n",
    "    precision, recall, thresholds = precision_recall_curve(y_val, y_pred)\n",
    "    auc_score = auc(recall, precision)\n",
    "    pr_score.append(auc_score)\n",
    "    fpr, tpr, _ = roc_curve(y_val, y_pred)\n",
    "    roc_auc = auc(fpr, tpr)\n",
    "    roc_score.append(roc_auc)\n",
    "\n",
    "new_row= {'Model Name': 'GBoost','AUC_ROC_Score': sum(roc_score)/len(roc_score),'AUC_PR_Score':sum(pr_score)/len(pr_score) }\n",
    "model_performance.loc[12]= new_row\n",
    "print(f'Roc_score: {sum(roc_score)/len(roc_score)}')\n",
    "print(f'PR_score: {sum(pr_score)/len(pr_score)}')"
   ]
  },
  {
   "cell_type": "markdown",
   "metadata": {},
   "source": [
    "##### Gradient Boosting with Smote"
   ]
  },
  {
   "cell_type": "code",
   "execution_count": 20,
   "metadata": {},
   "outputs": [
    {
     "name": "stdout",
     "output_type": "stream",
     "text": [
      "Roc_score: 0.9275932110534629\n",
      "PR_score: 0.1427906920109846\n"
     ]
    }
   ],
   "source": [
    "gb_model_sm = GradientBoostingClassifier(random_state=42)\n",
    "roc_score= []\n",
    "pr_score= []\n",
    "\n",
    "for train_index, val_index in skf.split(X,y):\n",
    "    X_train = X.iloc[train_index]\n",
    "    X_val = X.iloc[val_index]\n",
    "    y_train = y.iloc[train_index]\n",
    "    y_val = y.iloc[val_index]\n",
    "\n",
    "    smote = SMOTE(random_state=42)\n",
    "    X_train_sm, y_train_sm = smote.fit_resample(X_train, y_train)\n",
    "\n",
    "    gb_model_sm.fit(X_train_sm,y_train_sm)\n",
    "    y_pred= gb_model_sm.predict_proba(X_val)[:, 1]  \n",
    "    \n",
    "    precision, recall, thresholds = precision_recall_curve(y_val, y_pred)\n",
    "    auc_score = auc(recall, precision)\n",
    "    pr_score.append(auc_score)\n",
    "    fpr, tpr, _ = roc_curve(y_val, y_pred)\n",
    "    roc_auc = auc(fpr, tpr)\n",
    "    roc_score.append(roc_auc)\n",
    "\n",
    "new_row= {'Model Name': 'GBoost with Smote','AUC_ROC_Score': sum(roc_score)/len(roc_score),'AUC_PR_Score':sum(pr_score)/len(pr_score) }\n",
    "model_performance.loc[13]= new_row\n",
    "print(f'Roc_score: {sum(roc_score)/len(roc_score)}')\n",
    "print(f'PR_score: {sum(pr_score)/len(pr_score)}')"
   ]
  },
  {
   "cell_type": "markdown",
   "metadata": {},
   "source": [
    "##### Gradient Boosting with RandomOverSampling"
   ]
  },
  {
   "cell_type": "code",
   "execution_count": 21,
   "metadata": {},
   "outputs": [
    {
     "name": "stdout",
     "output_type": "stream",
     "text": [
      "Roc_score: 0.9362698326598895\n",
      "PR_score: 0.16688673659769648\n"
     ]
    }
   ],
   "source": [
    "gb_model_ovr = GradientBoostingClassifier(random_state=42)\n",
    "roc_score= []\n",
    "pr_score= []\n",
    "\n",
    "for train_index, val_index in skf.split(X,y):\n",
    "    X_train = X.iloc[train_index]\n",
    "    X_val = X.iloc[val_index]\n",
    "    y_train = y.iloc[train_index]\n",
    "    y_val = y.iloc[val_index]\n",
    "\n",
    "    ran_over = RandomOverSampler(random_state=42)\n",
    "    X_train_ovr, y_train_ovr = ran_over.fit_resample(X_train, y_train)\n",
    "\n",
    "    gb_model_ovr.fit(X_train_ovr,y_train_ovr)\n",
    "    y_pred= gb_model_ovr.predict_proba(X_val)[:, 1]  \n",
    "    \n",
    "    precision, recall, thresholds = precision_recall_curve(y_val, y_pred)\n",
    "    auc_score = auc(recall, precision)\n",
    "    pr_score.append(auc_score)\n",
    "    fpr, tpr, _ = roc_curve(y_val, y_pred)\n",
    "    roc_auc = auc(fpr, tpr)\n",
    "    roc_score.append(roc_auc)\n",
    "\n",
    "new_row= {'Model Name': 'GBoost with RandomOverSampling','AUC_ROC_Score': sum(roc_score)/len(roc_score),'AUC_PR_Score':sum(pr_score)/len(pr_score) }\n",
    "model_performance.loc[14]= new_row\n",
    "print(f'Roc_score: {sum(roc_score)/len(roc_score)}')\n",
    "print(f'PR_score: {sum(pr_score)/len(pr_score)}')"
   ]
  },
  {
   "cell_type": "markdown",
   "metadata": {},
   "source": [
    "##### Gradient Boosting with RandomUnderSampling"
   ]
  },
  {
   "cell_type": "code",
   "execution_count": 22,
   "metadata": {},
   "outputs": [
    {
     "name": "stdout",
     "output_type": "stream",
     "text": [
      "Roc_score: 0.935608106632808\n",
      "PR_score: 0.16366831763817258\n"
     ]
    }
   ],
   "source": [
    "gb_model_und = GradientBoostingClassifier(random_state=42)\n",
    "roc_score= []\n",
    "pr_score= []\n",
    "\n",
    "for train_index, val_index in skf.split(X,y):\n",
    "    X_train = X.iloc[train_index]\n",
    "    X_val = X.iloc[val_index]\n",
    "    y_train = y.iloc[train_index]\n",
    "    y_val = y.iloc[val_index]\n",
    "\n",
    "    ran_under = RandomUnderSampler(random_state=42)\n",
    "    X_train_und, y_train_und = ran_under.fit_resample(X_train, y_train)\n",
    "\n",
    "    gb_model_und.fit(X_train_und,y_train_und)\n",
    "    y_pred= gb_model_und.predict_proba(X_val)[:, 1]  \n",
    "    \n",
    "    precision, recall, thresholds = precision_recall_curve(y_val, y_pred)\n",
    "    auc_score = auc(recall, precision)\n",
    "    pr_score.append(auc_score)\n",
    "    fpr, tpr, _ = roc_curve(y_val, y_pred)\n",
    "    roc_auc = auc(fpr, tpr)\n",
    "    roc_score.append(roc_auc)\n",
    "\n",
    "new_row= {'Model Name': 'GBoost with RandomUnderSampling','AUC_ROC_Score': sum(roc_score)/len(roc_score),'AUC_PR_Score':sum(pr_score)/len(pr_score) }\n",
    "model_performance.loc[15]= new_row\n",
    "print(f'Roc_score: {sum(roc_score)/len(roc_score)}')\n",
    "print(f'PR_score: {sum(pr_score)/len(pr_score)}')"
   ]
  },
  {
   "cell_type": "markdown",
   "metadata": {},
   "source": [
    "##### XGBoost"
   ]
  },
  {
   "cell_type": "code",
   "execution_count": 23,
   "metadata": {},
   "outputs": [
    {
     "name": "stdout",
     "output_type": "stream",
     "text": [
      "Roc_score: 0.9453196915368338\n",
      "PR_score: 0.243626354636394\n"
     ]
    }
   ],
   "source": [
    "import xgboost as xgb\n",
    "\n",
    "xgb_model = xgb.XGBClassifier(random_state=42)\n",
    "roc_score= []\n",
    "pr_score= []\n",
    "\n",
    "for train_index, val_index in skf.split(X,y):\n",
    "    X_train = X.iloc[train_index]\n",
    "    X_val = X.iloc[val_index]\n",
    "    y_train = y.iloc[train_index]\n",
    "    y_val = y.iloc[val_index]\n",
    "\n",
    "    xgb_model.fit(X_train,y_train)\n",
    "    y_pred= xgb_model.predict_proba(X_val)[:, 1]  \n",
    "    \n",
    "    precision, recall, thresholds = precision_recall_curve(y_val, y_pred)\n",
    "    auc_score = auc(recall, precision)\n",
    "    pr_score.append(auc_score)\n",
    "    fpr, tpr, _ = roc_curve(y_val, y_pred)\n",
    "    roc_auc = auc(fpr, tpr)\n",
    "    roc_score.append(roc_auc)\n",
    "\n",
    "new_row= {'Model Name': 'XGBoost','AUC_ROC_Score': sum(roc_score)/len(roc_score),'AUC_PR_Score':sum(pr_score)/len(pr_score) }\n",
    "model_performance.loc[16]= new_row\n",
    "print(f'Roc_score: {sum(roc_score)/len(roc_score)}')\n",
    "print(f'PR_score: {sum(pr_score)/len(pr_score)}')"
   ]
  },
  {
   "cell_type": "markdown",
   "metadata": {},
   "source": [
    "##### XGBoost with Smote"
   ]
  },
  {
   "cell_type": "code",
   "execution_count": 24,
   "metadata": {},
   "outputs": [
    {
     "name": "stdout",
     "output_type": "stream",
     "text": [
      "Roc_score: 0.9260907435357895\n",
      "PR_score: 0.13839514611677095\n"
     ]
    }
   ],
   "source": [
    "xgb_model_sm = xgb.XGBClassifier(random_state=42)\n",
    "roc_score= []\n",
    "pr_score= []\n",
    "\n",
    "for train_index, val_index in skf.split(X,y):\n",
    "    X_train = X.iloc[train_index]\n",
    "    X_val = X.iloc[val_index]\n",
    "    y_train = y.iloc[train_index]\n",
    "    y_val = y.iloc[val_index]\n",
    "\n",
    "    smote = SMOTE(random_state=42)\n",
    "    X_train_sm, y_train_sm = smote.fit_resample(X_train, y_train)\n",
    "\n",
    "    xgb_model_sm.fit(X_train_sm,y_train_sm)\n",
    "    y_pred= xgb_model_sm.predict_proba(X_val)[:, 1]  \n",
    "    \n",
    "    precision, recall, thresholds = precision_recall_curve(y_val, y_pred)\n",
    "    auc_score = auc(recall, precision)\n",
    "    pr_score.append(auc_score)\n",
    "    fpr, tpr, _ = roc_curve(y_val, y_pred)\n",
    "    roc_auc = auc(fpr, tpr)\n",
    "    roc_score.append(roc_auc)\n",
    "\n",
    "new_row= {'Model Name': 'XGBoost with Smote','AUC_ROC_Score': sum(roc_score)/len(roc_score),'AUC_PR_Score':sum(pr_score)/len(pr_score) }\n",
    "model_performance.loc[17]= new_row\n",
    "print(f'Roc_score: {sum(roc_score)/len(roc_score)}')\n",
    "print(f'PR_score: {sum(pr_score)/len(pr_score)}')"
   ]
  },
  {
   "cell_type": "markdown",
   "metadata": {},
   "source": [
    "##### XGBoost with RandomOverSampling"
   ]
  },
  {
   "cell_type": "code",
   "execution_count": 25,
   "metadata": {},
   "outputs": [
    {
     "name": "stdout",
     "output_type": "stream",
     "text": [
      "Roc_score: 0.9426986478343894\n",
      "PR_score: 0.21828352189825012\n"
     ]
    }
   ],
   "source": [
    "xgb_model_ovr = xgb.XGBClassifier(random_state=42)\n",
    "roc_score= []\n",
    "pr_score= []\n",
    "\n",
    "for train_index, val_index in skf.split(X,y):\n",
    "    X_train = X.iloc[train_index]\n",
    "    X_val = X.iloc[val_index]\n",
    "    y_train = y.iloc[train_index]\n",
    "    y_val = y.iloc[val_index]\n",
    "\n",
    "    ran_over = RandomOverSampler(random_state=42)\n",
    "    X_train_ovr, y_train_ovr = ran_over.fit_resample(X_train, y_train)\n",
    "\n",
    "    xgb_model_ovr.fit(X_train_ovr,y_train_ovr)\n",
    "    y_pred= xgb_model_ovr.predict_proba(X_val)[:, 1]  \n",
    "    \n",
    "    precision, recall, thresholds = precision_recall_curve(y_val, y_pred)\n",
    "    auc_score = auc(recall, precision)\n",
    "    pr_score.append(auc_score)\n",
    "    fpr, tpr, _ = roc_curve(y_val, y_pred)\n",
    "    roc_auc = auc(fpr, tpr)\n",
    "    roc_score.append(roc_auc)\n",
    "\n",
    "new_row= {'Model Name': 'XGBoost with RandomOverSampling','AUC_ROC_Score': sum(roc_score)/len(roc_score),'AUC_PR_Score':sum(pr_score)/len(pr_score) }\n",
    "model_performance.loc[18]= new_row\n",
    "print(f'Roc_score: {sum(roc_score)/len(roc_score)}')\n",
    "print(f'PR_score: {sum(pr_score)/len(pr_score)}')"
   ]
  },
  {
   "cell_type": "markdown",
   "metadata": {},
   "source": [
    "##### XGBoost with RandomUnderSampling"
   ]
  },
  {
   "cell_type": "code",
   "execution_count": 26,
   "metadata": {},
   "outputs": [
    {
     "name": "stdout",
     "output_type": "stream",
     "text": [
      "Roc_score: 0.9427529027224514\n",
      "PR_score: 0.16009727417020708\n"
     ]
    }
   ],
   "source": [
    "xgb_model_und = xgb.XGBClassifier(random_state=42)\n",
    "roc_score= []\n",
    "pr_score= []\n",
    "\n",
    "for train_index, val_index in skf.split(X,y):\n",
    "    X_train = X.iloc[train_index]\n",
    "    X_val = X.iloc[val_index]\n",
    "    y_train = y.iloc[train_index]\n",
    "    y_val = y.iloc[val_index]\n",
    "\n",
    "    ran_under = RandomUnderSampler(random_state=42)\n",
    "    X_train_und, y_train_und = ran_under.fit_resample(X_train, y_train)\n",
    "\n",
    "    xgb_model_und.fit(X_train_und,y_train_und)\n",
    "    y_pred= xgb_model_und.predict_proba(X_val)[:, 1]  \n",
    "    \n",
    "    precision, recall, thresholds = precision_recall_curve(y_val, y_pred)\n",
    "    auc_score = auc(recall, precision)\n",
    "    pr_score.append(auc_score)\n",
    "    fpr, tpr, _ = roc_curve(y_val, y_pred)\n",
    "    roc_auc = auc(fpr, tpr)\n",
    "    roc_score.append(roc_auc)\n",
    "\n",
    "new_row= {'Model Name': 'XGBoost with RandomUnderSampling','AUC_ROC_Score': sum(roc_score)/len(roc_score),'AUC_PR_Score':sum(pr_score)/len(pr_score) }\n",
    "model_performance.loc[19]= new_row\n",
    "print(f'Roc_score: {sum(roc_score)/len(roc_score)}')\n",
    "print(f'PR_score: {sum(pr_score)/len(pr_score)}')"
   ]
  },
  {
   "cell_type": "markdown",
   "metadata": {},
   "source": [
    "##### Training Scores of different models"
   ]
  },
  {
   "cell_type": "code",
   "execution_count": 27,
   "metadata": {},
   "outputs": [
    {
     "data": {
      "text/html": [
       "<div>\n",
       "<style scoped>\n",
       "    .dataframe tbody tr th:only-of-type {\n",
       "        vertical-align: middle;\n",
       "    }\n",
       "\n",
       "    .dataframe tbody tr th {\n",
       "        vertical-align: top;\n",
       "    }\n",
       "\n",
       "    .dataframe thead th {\n",
       "        text-align: right;\n",
       "    }\n",
       "</style>\n",
       "<table border=\"1\" class=\"dataframe\">\n",
       "  <thead>\n",
       "    <tr style=\"text-align: right;\">\n",
       "      <th></th>\n",
       "      <th>Model Name</th>\n",
       "      <th>AUC_ROC_Score</th>\n",
       "      <th>AUC_PR_Score</th>\n",
       "    </tr>\n",
       "  </thead>\n",
       "  <tbody>\n",
       "    <tr>\n",
       "      <th>0</th>\n",
       "      <td>Logistic</td>\n",
       "      <td>0.629315</td>\n",
       "      <td>0.012856</td>\n",
       "    </tr>\n",
       "    <tr>\n",
       "      <th>1</th>\n",
       "      <td>Logistic with Smote</td>\n",
       "      <td>0.729027</td>\n",
       "      <td>0.026837</td>\n",
       "    </tr>\n",
       "    <tr>\n",
       "      <th>2</th>\n",
       "      <td>Logistic with RandomOverSampling</td>\n",
       "      <td>0.764319</td>\n",
       "      <td>0.028435</td>\n",
       "    </tr>\n",
       "    <tr>\n",
       "      <th>3</th>\n",
       "      <td>Logistic with RandomUnderSampling</td>\n",
       "      <td>0.759908</td>\n",
       "      <td>0.027177</td>\n",
       "    </tr>\n",
       "    <tr>\n",
       "      <th>4</th>\n",
       "      <td>CART</td>\n",
       "      <td>0.667188</td>\n",
       "      <td>0.212819</td>\n",
       "    </tr>\n",
       "    <tr>\n",
       "      <th>5</th>\n",
       "      <td>CART with Smote</td>\n",
       "      <td>0.685762</td>\n",
       "      <td>0.222126</td>\n",
       "    </tr>\n",
       "    <tr>\n",
       "      <th>6</th>\n",
       "      <td>CART with RandomOverSampling</td>\n",
       "      <td>0.650712</td>\n",
       "      <td>0.197780</td>\n",
       "    </tr>\n",
       "    <tr>\n",
       "      <th>7</th>\n",
       "      <td>CART with RandomUnderSampling</td>\n",
       "      <td>0.844966</td>\n",
       "      <td>0.436470</td>\n",
       "    </tr>\n",
       "    <tr>\n",
       "      <th>8</th>\n",
       "      <td>RF</td>\n",
       "      <td>0.897947</td>\n",
       "      <td>0.319413</td>\n",
       "    </tr>\n",
       "    <tr>\n",
       "      <th>9</th>\n",
       "      <td>RF with Smote</td>\n",
       "      <td>0.908733</td>\n",
       "      <td>0.186461</td>\n",
       "    </tr>\n",
       "    <tr>\n",
       "      <th>10</th>\n",
       "      <td>RF with RandomOverSampling</td>\n",
       "      <td>0.889640</td>\n",
       "      <td>0.161979</td>\n",
       "    </tr>\n",
       "    <tr>\n",
       "      <th>11</th>\n",
       "      <td>RF with RandomUnderSampling</td>\n",
       "      <td>0.944025</td>\n",
       "      <td>0.179797</td>\n",
       "    </tr>\n",
       "    <tr>\n",
       "      <th>12</th>\n",
       "      <td>GBoost</td>\n",
       "      <td>0.926608</td>\n",
       "      <td>0.181962</td>\n",
       "    </tr>\n",
       "    <tr>\n",
       "      <th>13</th>\n",
       "      <td>GBoost with Smote</td>\n",
       "      <td>0.927593</td>\n",
       "      <td>0.142791</td>\n",
       "    </tr>\n",
       "    <tr>\n",
       "      <th>14</th>\n",
       "      <td>GBoost with RandomOverSampling</td>\n",
       "      <td>0.936270</td>\n",
       "      <td>0.166887</td>\n",
       "    </tr>\n",
       "    <tr>\n",
       "      <th>15</th>\n",
       "      <td>GBoost with RandomUnderSampling</td>\n",
       "      <td>0.935608</td>\n",
       "      <td>0.163668</td>\n",
       "    </tr>\n",
       "    <tr>\n",
       "      <th>16</th>\n",
       "      <td>XGBoost</td>\n",
       "      <td>0.945320</td>\n",
       "      <td>0.243626</td>\n",
       "    </tr>\n",
       "    <tr>\n",
       "      <th>17</th>\n",
       "      <td>XGBoost with Smote</td>\n",
       "      <td>0.926091</td>\n",
       "      <td>0.138395</td>\n",
       "    </tr>\n",
       "    <tr>\n",
       "      <th>18</th>\n",
       "      <td>XGBoost with RandomOverSampling</td>\n",
       "      <td>0.942699</td>\n",
       "      <td>0.218284</td>\n",
       "    </tr>\n",
       "    <tr>\n",
       "      <th>19</th>\n",
       "      <td>XGBoost with RandomUnderSampling</td>\n",
       "      <td>0.942753</td>\n",
       "      <td>0.160097</td>\n",
       "    </tr>\n",
       "  </tbody>\n",
       "</table>\n",
       "</div>"
      ],
      "text/plain": [
       "                           Model Name  AUC_ROC_Score  AUC_PR_Score\n",
       "0                            Logistic       0.629315      0.012856\n",
       "1                 Logistic with Smote       0.729027      0.026837\n",
       "2    Logistic with RandomOverSampling       0.764319      0.028435\n",
       "3   Logistic with RandomUnderSampling       0.759908      0.027177\n",
       "4                                CART       0.667188      0.212819\n",
       "5                     CART with Smote       0.685762      0.222126\n",
       "6        CART with RandomOverSampling       0.650712      0.197780\n",
       "7       CART with RandomUnderSampling       0.844966      0.436470\n",
       "8                                  RF       0.897947      0.319413\n",
       "9                       RF with Smote       0.908733      0.186461\n",
       "10         RF with RandomOverSampling       0.889640      0.161979\n",
       "11        RF with RandomUnderSampling       0.944025      0.179797\n",
       "12                             GBoost       0.926608      0.181962\n",
       "13                  GBoost with Smote       0.927593      0.142791\n",
       "14     GBoost with RandomOverSampling       0.936270      0.166887\n",
       "15    GBoost with RandomUnderSampling       0.935608      0.163668\n",
       "16                            XGBoost       0.945320      0.243626\n",
       "17                 XGBoost with Smote       0.926091      0.138395\n",
       "18    XGBoost with RandomOverSampling       0.942699      0.218284\n",
       "19   XGBoost with RandomUnderSampling       0.942753      0.160097"
      ]
     },
     "execution_count": 27,
     "metadata": {},
     "output_type": "execute_result"
    }
   ],
   "source": [
    "model_performance"
   ]
  },
  {
   "cell_type": "markdown",
   "metadata": {},
   "source": [
    "##### Model Testing"
   ]
  },
  {
   "cell_type": "markdown",
   "metadata": {},
   "source": [
    "##### Data Preprocessing"
   ]
  },
  {
   "cell_type": "code",
   "execution_count": 28,
   "metadata": {},
   "outputs": [],
   "source": [
    "test_data= test_data.dropna()\n",
    "test_data= test_data.drop(columns=['sku'])\n",
    "\n",
    "cat_features = test_data.select_dtypes(include=['object'])\n",
    "num_features = test_data.select_dtypes(include=np.number)\n",
    "\n",
    "for col in cat_features:\n",
    "    cat_features[col].replace('No',0,inplace=True)\n",
    "    cat_features[col].replace('Yes',1,inplace=True)\n",
    "\n",
    "test_data= pd.concat([num_features,cat_features],axis=1)\n",
    "\n",
    "X_test= test_data.drop(['went_on_backorder','forecast_6_month', 'forecast_9_month','sales_3_month', 'sales_6_month', 'sales_9_month','perf_12_month_avg'],axis=1)\n",
    "y_test= test_data['went_on_backorder']\n",
    "\n",
    "scaler = StandardScaler()"
   ]
  },
  {
   "cell_type": "code",
   "execution_count": 29,
   "metadata": {},
   "outputs": [],
   "source": [
    "def evaluate_estimators(estimators, X_test, y_test):\n",
    "    roc_scores = []\n",
    "    pr_scores = []\n",
    "\n",
    "    X_scale= scaler.fit_transform(X)\n",
    "    X_test_scaled = scaler.transform(X_test)\n",
    "\n",
    "    for estimator in estimators:\n",
    "        if estimator in [log_model,log_model_sm,log_model_ovr,log_model_und]:\n",
    "            y_pred = estimator.predict_proba(X_test_scaled)[:, 1]\n",
    "        else:\n",
    "            y_pred = estimator.predict_proba(X_test)[:, 1]\n",
    "\n",
    "        precision, recall, thresholds = precision_recall_curve(y_test, y_pred)\n",
    "        auc_pr = auc(recall, precision)\n",
    "        pr_scores.append(auc_pr)\n",
    "\n",
    "        fpr, tpr, _ = roc_curve(y_test, y_pred)\n",
    "        auc_roc = auc(fpr, tpr)\n",
    "        roc_scores.append(auc_roc)\n",
    "\n",
    "    test_scores = pd.DataFrame({\n",
    "        'AUC_ROC_test':roc_scores,\n",
    "        'AUC_PR_test':pr_scores\n",
    "    })\n",
    "    return test_scores\n"
   ]
  },
  {
   "cell_type": "code",
   "execution_count": 30,
   "metadata": {},
   "outputs": [],
   "source": [
    "test_scores= evaluate_estimators([log_model,log_model_sm,log_model_ovr,log_model_und,\n",
    "                     dt_model,dt_model_sm,dt_model_ovr,dt_model_und,\n",
    "                     rf_model,rf_model_sm,rf_model_ovr,rf_model_und,\n",
    "                     gb_model,gb_model_sm,gb_model_ovr,gb_model_und,\n",
    "                     xgb_model,xgb_model_sm,xgb_model_ovr,xgb_model_und],X_test,y_test)"
   ]
  },
  {
   "cell_type": "markdown",
   "metadata": {},
   "source": [
    "##### Models performance comparison on train and test data"
   ]
  },
  {
   "cell_type": "code",
   "execution_count": 31,
   "metadata": {},
   "outputs": [
    {
     "data": {
      "text/html": [
       "<div>\n",
       "<style scoped>\n",
       "    .dataframe tbody tr th:only-of-type {\n",
       "        vertical-align: middle;\n",
       "    }\n",
       "\n",
       "    .dataframe tbody tr th {\n",
       "        vertical-align: top;\n",
       "    }\n",
       "\n",
       "    .dataframe thead th {\n",
       "        text-align: right;\n",
       "    }\n",
       "</style>\n",
       "<table border=\"1\" class=\"dataframe\">\n",
       "  <thead>\n",
       "    <tr style=\"text-align: right;\">\n",
       "      <th></th>\n",
       "      <th>Model Name</th>\n",
       "      <th>AUC_ROC_Score</th>\n",
       "      <th>AUC_PR_Score</th>\n",
       "      <th>AUC_ROC_test</th>\n",
       "      <th>AUC_PR_test</th>\n",
       "    </tr>\n",
       "  </thead>\n",
       "  <tbody>\n",
       "    <tr>\n",
       "      <th>0</th>\n",
       "      <td>Logistic</td>\n",
       "      <td>0.629315</td>\n",
       "      <td>0.012856</td>\n",
       "      <td>0.616128</td>\n",
       "      <td>0.012212</td>\n",
       "    </tr>\n",
       "    <tr>\n",
       "      <th>1</th>\n",
       "      <td>Logistic with Smote</td>\n",
       "      <td>0.729027</td>\n",
       "      <td>0.026837</td>\n",
       "      <td>0.717237</td>\n",
       "      <td>0.024347</td>\n",
       "    </tr>\n",
       "    <tr>\n",
       "      <th>2</th>\n",
       "      <td>Logistic with RandomOverSampling</td>\n",
       "      <td>0.764319</td>\n",
       "      <td>0.028435</td>\n",
       "      <td>0.754291</td>\n",
       "      <td>0.027221</td>\n",
       "    </tr>\n",
       "    <tr>\n",
       "      <th>3</th>\n",
       "      <td>Logistic with RandomUnderSampling</td>\n",
       "      <td>0.759908</td>\n",
       "      <td>0.027177</td>\n",
       "      <td>0.688799</td>\n",
       "      <td>0.016391</td>\n",
       "    </tr>\n",
       "    <tr>\n",
       "      <th>4</th>\n",
       "      <td>CART</td>\n",
       "      <td>0.667188</td>\n",
       "      <td>0.212819</td>\n",
       "      <td>0.663687</td>\n",
       "      <td>0.211346</td>\n",
       "    </tr>\n",
       "    <tr>\n",
       "      <th>5</th>\n",
       "      <td>CART with Smote</td>\n",
       "      <td>0.685762</td>\n",
       "      <td>0.222126</td>\n",
       "      <td>0.675097</td>\n",
       "      <td>0.211655</td>\n",
       "    </tr>\n",
       "    <tr>\n",
       "      <th>6</th>\n",
       "      <td>CART with RandomOverSampling</td>\n",
       "      <td>0.650712</td>\n",
       "      <td>0.197780</td>\n",
       "      <td>0.651693</td>\n",
       "      <td>0.204703</td>\n",
       "    </tr>\n",
       "    <tr>\n",
       "      <th>7</th>\n",
       "      <td>CART with RandomUnderSampling</td>\n",
       "      <td>0.844966</td>\n",
       "      <td>0.436470</td>\n",
       "      <td>0.844797</td>\n",
       "      <td>0.435738</td>\n",
       "    </tr>\n",
       "    <tr>\n",
       "      <th>8</th>\n",
       "      <td>RF</td>\n",
       "      <td>0.897947</td>\n",
       "      <td>0.319413</td>\n",
       "      <td>0.900397</td>\n",
       "      <td>0.305471</td>\n",
       "    </tr>\n",
       "    <tr>\n",
       "      <th>9</th>\n",
       "      <td>RF with Smote</td>\n",
       "      <td>0.908733</td>\n",
       "      <td>0.186461</td>\n",
       "      <td>0.908659</td>\n",
       "      <td>0.173053</td>\n",
       "    </tr>\n",
       "    <tr>\n",
       "      <th>10</th>\n",
       "      <td>RF with RandomOverSampling</td>\n",
       "      <td>0.889640</td>\n",
       "      <td>0.161979</td>\n",
       "      <td>0.888372</td>\n",
       "      <td>0.153194</td>\n",
       "    </tr>\n",
       "    <tr>\n",
       "      <th>11</th>\n",
       "      <td>RF with RandomUnderSampling</td>\n",
       "      <td>0.944025</td>\n",
       "      <td>0.179797</td>\n",
       "      <td>0.942295</td>\n",
       "      <td>0.170191</td>\n",
       "    </tr>\n",
       "    <tr>\n",
       "      <th>12</th>\n",
       "      <td>GBoost</td>\n",
       "      <td>0.926608</td>\n",
       "      <td>0.181962</td>\n",
       "      <td>0.929366</td>\n",
       "      <td>0.186931</td>\n",
       "    </tr>\n",
       "    <tr>\n",
       "      <th>13</th>\n",
       "      <td>GBoost with Smote</td>\n",
       "      <td>0.927593</td>\n",
       "      <td>0.142791</td>\n",
       "      <td>0.930498</td>\n",
       "      <td>0.144485</td>\n",
       "    </tr>\n",
       "    <tr>\n",
       "      <th>14</th>\n",
       "      <td>GBoost with RandomOverSampling</td>\n",
       "      <td>0.936270</td>\n",
       "      <td>0.166887</td>\n",
       "      <td>0.937865</td>\n",
       "      <td>0.166083</td>\n",
       "    </tr>\n",
       "    <tr>\n",
       "      <th>15</th>\n",
       "      <td>GBoost with RandomUnderSampling</td>\n",
       "      <td>0.935608</td>\n",
       "      <td>0.163668</td>\n",
       "      <td>0.936977</td>\n",
       "      <td>0.163213</td>\n",
       "    </tr>\n",
       "    <tr>\n",
       "      <th>16</th>\n",
       "      <td>XGBoost</td>\n",
       "      <td>0.945320</td>\n",
       "      <td>0.243626</td>\n",
       "      <td>0.945162</td>\n",
       "      <td>0.241619</td>\n",
       "    </tr>\n",
       "    <tr>\n",
       "      <th>17</th>\n",
       "      <td>XGBoost with Smote</td>\n",
       "      <td>0.926091</td>\n",
       "      <td>0.138395</td>\n",
       "      <td>0.924123</td>\n",
       "      <td>0.144695</td>\n",
       "    </tr>\n",
       "    <tr>\n",
       "      <th>18</th>\n",
       "      <td>XGBoost with RandomOverSampling</td>\n",
       "      <td>0.942699</td>\n",
       "      <td>0.218284</td>\n",
       "      <td>0.943407</td>\n",
       "      <td>0.214417</td>\n",
       "    </tr>\n",
       "    <tr>\n",
       "      <th>19</th>\n",
       "      <td>XGBoost with RandomUnderSampling</td>\n",
       "      <td>0.942753</td>\n",
       "      <td>0.160097</td>\n",
       "      <td>0.941933</td>\n",
       "      <td>0.152100</td>\n",
       "    </tr>\n",
       "  </tbody>\n",
       "</table>\n",
       "</div>"
      ],
      "text/plain": [
       "                           Model Name  AUC_ROC_Score  AUC_PR_Score  \\\n",
       "0                            Logistic       0.629315      0.012856   \n",
       "1                 Logistic with Smote       0.729027      0.026837   \n",
       "2    Logistic with RandomOverSampling       0.764319      0.028435   \n",
       "3   Logistic with RandomUnderSampling       0.759908      0.027177   \n",
       "4                                CART       0.667188      0.212819   \n",
       "5                     CART with Smote       0.685762      0.222126   \n",
       "6        CART with RandomOverSampling       0.650712      0.197780   \n",
       "7       CART with RandomUnderSampling       0.844966      0.436470   \n",
       "8                                  RF       0.897947      0.319413   \n",
       "9                       RF with Smote       0.908733      0.186461   \n",
       "10         RF with RandomOverSampling       0.889640      0.161979   \n",
       "11        RF with RandomUnderSampling       0.944025      0.179797   \n",
       "12                             GBoost       0.926608      0.181962   \n",
       "13                  GBoost with Smote       0.927593      0.142791   \n",
       "14     GBoost with RandomOverSampling       0.936270      0.166887   \n",
       "15    GBoost with RandomUnderSampling       0.935608      0.163668   \n",
       "16                            XGBoost       0.945320      0.243626   \n",
       "17                 XGBoost with Smote       0.926091      0.138395   \n",
       "18    XGBoost with RandomOverSampling       0.942699      0.218284   \n",
       "19   XGBoost with RandomUnderSampling       0.942753      0.160097   \n",
       "\n",
       "    AUC_ROC_test  AUC_PR_test  \n",
       "0       0.616128     0.012212  \n",
       "1       0.717237     0.024347  \n",
       "2       0.754291     0.027221  \n",
       "3       0.688799     0.016391  \n",
       "4       0.663687     0.211346  \n",
       "5       0.675097     0.211655  \n",
       "6       0.651693     0.204703  \n",
       "7       0.844797     0.435738  \n",
       "8       0.900397     0.305471  \n",
       "9       0.908659     0.173053  \n",
       "10      0.888372     0.153194  \n",
       "11      0.942295     0.170191  \n",
       "12      0.929366     0.186931  \n",
       "13      0.930498     0.144485  \n",
       "14      0.937865     0.166083  \n",
       "15      0.936977     0.163213  \n",
       "16      0.945162     0.241619  \n",
       "17      0.924123     0.144695  \n",
       "18      0.943407     0.214417  \n",
       "19      0.941933     0.152100  "
      ]
     },
     "execution_count": 31,
     "metadata": {},
     "output_type": "execute_result"
    }
   ],
   "source": [
    "model_performance= pd.concat([model_performance,test_scores],axis=1)\n",
    "model_performance"
   ]
  },
  {
   "cell_type": "code",
   "execution_count": 32,
   "metadata": {},
   "outputs": [
    {
     "data": {
      "text/plain": [
       "<Axes: >"
      ]
     },
     "execution_count": 32,
     "metadata": {},
     "output_type": "execute_result"
    },
    {
     "data": {
      "image/png": "[encoded data removed]",
      "text/plain": [
       "<Figure size 3000x2500 with 12 Axes>"
      ]
     },
     "metadata": {},
     "output_type": "display_data"
    }
   ],
   "source": [
    "rf_importances= rf_model.feature_importances_\n",
    "gb_importances= gb_model.feature_importances_\n",
    "xgb_importances= xgb_model.feature_importances_\n",
    "rf_importances_ovr = rf_model_ovr.feature_importances_\n",
    "gb_importances_ovr = gb_model_ovr.feature_importances_\n",
    "xgb_importances_ovr = xgb_model_ovr.feature_importances_\n",
    "rf_importances_sme = rf_model_sm.feature_importances_\n",
    "gb_importances_sme = gb_model_sm.feature_importances_\n",
    "xgb_importances_sme= xgb_model_sm.feature_importances_\n",
    "rf_importances_und = rf_model_und.feature_importances_\n",
    "gb_importances_und = gb_model_und.feature_importances_\n",
    "xgb_importances_und= xgb_model_und.feature_importances_\n",
    "\n",
    "fig, axs = plt.subplots(nrows=4, ncols=3,figsize=(30,25))\n",
    "plt.subplot(4,3,1)\n",
    "sns.barplot(rf_importances)\n",
    "plt.subplot(4,3,2)\n",
    "sns.barplot(gb_importances)\n",
    "plt.subplot(4,3,3)\n",
    "sns.barplot(xgb_importances)\n",
    "plt.subplot(4,3,4)\n",
    "sns.barplot(rf_importances_sme)\n",
    "plt.subplot(4,3,5)\n",
    "sns.barplot(gb_importances_sme)\n",
    "plt.subplot(4,3,6)\n",
    "sns.barplot(xgb_importances_sme)\n",
    "plt.subplot(4,3,7)\n",
    "sns.barplot(rf_importances_ovr)\n",
    "plt.subplot(4,3,8)\n",
    "sns.barplot(gb_importances_ovr)\n",
    "plt.subplot(4,3,9)\n",
    "sns.barplot(xgb_importances_ovr)\n",
    "plt.subplot(4,3,10)\n",
    "sns.barplot(rf_importances_und)\n",
    "plt.subplot(4,3,11)\n",
    "sns.barplot(gb_importances_und)\n",
    "plt.subplot(4,3,12)\n",
    "sns.barplot(xgb_importances_und)"
   ]
  }
 ],
 "metadata": {
  "kernelspec": {
   "display_name": "Python 3",
   "language": "python",
   "name": "python3"
  },
  "language_info": {
   "codemirror_mode": {
    "name": "ipython",
    "version": 3
   },
   "file_extension": ".py",
   "mimetype": "text/x-python",
   "name": "python",
   "nbconvert_exporter": "python",
   "pygments_lexer": "ipython3",
   "version": "3.11.10"
  }
 },
 "nbformat": 4,
 "nbformat_minor": 2
}
