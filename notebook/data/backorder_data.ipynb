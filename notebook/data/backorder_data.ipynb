{
 "cells": [
  {
   "cell_type": "code",
   "execution_count": 1,
   "metadata": {},
   "outputs": [
    {
     "name": "stderr",
     "output_type": "stream",
     "text": [
      "C:\\Users\\HP\\AppData\\Local\\Temp\\ipykernel_3620\\3523972925.py:4: DtypeWarning: Columns (0) have mixed types. Specify dtype option on import or set low_memory=False.\n",
      "  train_data= pd.read_csv(path)\n",
      "C:\\Users\\HP\\AppData\\Local\\Temp\\ipykernel_3620\\3523972925.py:7: DtypeWarning: Columns (0) have mixed types. Specify dtype option on import or set low_memory=False.\n",
      "  test_data= pd.read_csv(path)\n"
     ]
    }
   ],
   "source": [
    "import pandas as pd\n",
    "\n",
    "path= r'C:\\Users\\HP\\Desktop\\project_intern\\data\\Kaggle_Training_Dataset_v2.csv'         # Use the path of your downloaded dataset for avoiding errors\n",
    "train_data= pd.read_csv(path)\n",
    "\n",
    "path= r'C:\\Users\\HP\\Desktop\\project_intern\\data\\Kaggle_Test_Dataset_v2.csv'             # Use the path of your downloaded dataset for avoiding errors\n",
    "test_data= pd.read_csv(path)"
   ]
  },
  {
   "cell_type": "code",
   "execution_count": 2,
   "metadata": {},
   "outputs": [
    {
     "data": {
      "text/plain": [
       "(1929937, 23)"
      ]
     },
     "execution_count": 2,
     "metadata": {},
     "output_type": "execute_result"
    }
   ],
   "source": [
    "backorder_data= pd.concat([train_data,test_data],ignore_index=True)\n",
    "backorder_data.shape"
   ]
  },
  {
   "cell_type": "code",
   "execution_count": 3,
   "metadata": {},
   "outputs": [],
   "source": [
    "backorder_data.to_csv('backorder_data.csv')          # Saving the whole data as a csv file"
   ]
  }
 ],
 "metadata": {
  "kernelspec": {
   "display_name": "Python 3",
   "language": "python",
   "name": "python3"
  },
  "language_info": {
   "codemirror_mode": {
    "name": "ipython",
    "version": 3
   },
   "file_extension": ".py",
   "mimetype": "text/x-python",
   "name": "python",
   "nbconvert_exporter": "python",
   "pygments_lexer": "ipython3",
   "version": "3.11.0"
  }
 },
 "nbformat": 4,
 "nbformat_minor": 2
}
